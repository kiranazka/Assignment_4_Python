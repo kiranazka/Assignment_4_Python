{
  "nbformat": 4,
  "nbformat_minor": 0,
  "metadata": {
    "colab": {
      "provenance": [],
      "authorship_tag": "ABX9TyO6KtOKInG0lMHRvXpuAnDU",
      "include_colab_link": true
    },
    "kernelspec": {
      "name": "python3",
      "display_name": "Python 3"
    },
    "language_info": {
      "name": "python"
    }
  },
  "cells": [
    {
      "cell_type": "markdown",
      "metadata": {
        "id": "view-in-github",
        "colab_type": "text"
      },
      "source": [
        "<a href=\"https://colab.research.google.com/github/kiranazka/Assignment_4_Python/blob/main/00_Intro_python.ipynb\" target=\"_parent\"><img src=\"https://colab.research.google.com/assets/colab-badge.svg\" alt=\"Open In Colab\"/></a>"
      ]
    },
    {
      "cell_type": "code",
      "execution_count": null,
      "metadata": {
        "id": "KBEOF8hPD5jh"
      },
      "outputs": [],
      "source": []
    },
    {
      "cell_type": "markdown",
      "source": [
        "# **Print** **(\"01_Add_Two_Numbers\")**"
      ],
      "metadata": {
        "id": "RWGfqeL8EAAF"
      }
    },
    {
      "cell_type": "code",
      "source": [
        "print(\"01_add_two_numbers\")\n",
        "\n",
        "def add():\n",
        "  print(\"This application for add two numbers\")\n",
        "  first_number = int(input(\"Enter your first number. \"))\n",
        "  second_number = int(input(\"Enter your second nunber. \"))\n",
        "  total = int(first_number + second_number)\n",
        "  print(f'The total sum of {first_number} and {second_number} is {total}')\n",
        "\n",
        "if __name__ == \"__main__\":\n",
        "  add()"
      ],
      "metadata": {
        "colab": {
          "base_uri": "https://localhost:8080/"
        },
        "id": "vWzUezfoEJWu",
        "outputId": "234e072a-561a-43bb-f6d2-c9dc425139c2"
      },
      "execution_count": null,
      "outputs": [
        {
          "output_type": "stream",
          "name": "stdout",
          "text": [
            "01_add_two_numbers\n",
            "This application for add two numbers\n",
            "Enter your first number. 234\n",
            "Enter your second nunber. 564\n",
            "The total sum of 234 and 564 is 798\n"
          ]
        }
      ]
    },
    {
      "cell_type": "markdown",
      "source": [
        "# **print(\"02_agreement_bot\")**"
      ],
      "metadata": {
        "id": "KETT2t66Grwv"
      }
    },
    {
      "cell_type": "code",
      "source": [
        "def agreement_bot():\n",
        "    bird = str(input(\"Enter your favorite bird?: \"))\n",
        "    print(f'{bird} is my favorite bird too!')\n",
        "\n",
        "if __name__ == \"__main__\":\n",
        "    agreement_bot()\n",
        "\n",
        "\n"
      ],
      "metadata": {
        "colab": {
          "base_uri": "https://localhost:8080/"
        },
        "id": "CPRo_4ONG40f",
        "outputId": "46828619-5fcb-49e9-c67b-c5598c845580"
      },
      "execution_count": null,
      "outputs": [
        {
          "output_type": "stream",
          "name": "stdout",
          "text": [
            "Enter your favorite bird?: parrot\n",
            "parrot is my favorite bird too!\n"
          ]
        }
      ]
    },
    {
      "cell_type": "markdown",
      "source": [
        "## **Print(\"03_Fahrenheit_To_Celsius\")**"
      ],
      "metadata": {
        "id": "WvNZfJ90JwJJ"
      }
    },
    {
      "cell_type": "code",
      "source": [
        "def temp():\n",
        "  print(\"Converting Fahrenheit to Celsius\")\n",
        "  Fahrenheit_degree = float(input(\"Enter the Fahrenheit_degree.\"))\n",
        "  Celsius_degree = (Fahrenheit_degree -32) * 5.0/9.0\n",
        "  print(f'{Fahrenheit_degree} Fahrenheit is equal to {Celsius_degree} Celsius')\n",
        "\n",
        "if __name__ == \"__main__\":\n",
        "  temp()"
      ],
      "metadata": {
        "colab": {
          "base_uri": "https://localhost:8080/"
        },
        "id": "abmkoeatKQ9x",
        "outputId": "ca96bd4a-3494-4dd9-bf40-f38877da9419"
      },
      "execution_count": null,
      "outputs": [
        {
          "output_type": "stream",
          "name": "stdout",
          "text": [
            "Converting Fahrenheit to Celsius\n",
            "Enter the Fahrenheit_degree.89\n",
            "89.0 Fahrenheit is equal to 31.666666666666668 Celsius\n"
          ]
        }
      ]
    },
    {
      "cell_type": "markdown",
      "source": [
        "\n",
        "# **Print(\"04_How_Old_Are_They\")**"
      ],
      "metadata": {
        "id": "Gwv3uJasMQ6N"
      }
    },
    {
      "cell_type": "code",
      "source": [
        "def add_ages():\n",
        "  anthon:int = 45\n",
        "  beth: int = anthon+7\n",
        "  chen:int = beth +25\n",
        "  drew:int = chen + anthon\n",
        "  ethan:int = chen\n",
        "\n",
        "  print(\"Anthon is \" + str(anthon))\n",
        "  print(\"Beth is \" + str(beth))\n",
        "  print(\"Chen is \" + str(chen))\n",
        "  print(\"Drew is \" + str(drew))\n",
        "  print(\"Ethen is \" + str(ethan))\n",
        "\n",
        "\n",
        "if __name__ == \"__main__\":\n",
        "  add_ages()\n",
        "\n"
      ],
      "metadata": {
        "id": "_eGSTCVHMXpb",
        "colab": {
          "base_uri": "https://localhost:8080/"
        },
        "outputId": "b5066322-5e90-4ad4-faad-c916d2a4be16"
      },
      "execution_count": 3,
      "outputs": [
        {
          "output_type": "stream",
          "name": "stdout",
          "text": [
            "Anthon is 45\n",
            "Beth is 52\n",
            "Chen is 77\n",
            "Drew is 122\n",
            "Ethen is 77\n"
          ]
        }
      ]
    },
    {
      "cell_type": "code",
      "source": [],
      "metadata": {
        "id": "ofLS3F0cLrx0"
      },
      "execution_count": null,
      "outputs": []
    },
    {
      "cell_type": "markdown",
      "source": [
        "## **Print(\"05_Triangle_Perimeter.\")**"
      ],
      "metadata": {
        "id": "pc87i6KNLk2U"
      }
    },
    {
      "cell_type": "code",
      "source": [
        "def triangle():\n",
        "  print(\"This code is about perimeter of Triangle.\")\n",
        "  side1:float = float(input(\"Enter your first side no of Triangle. \"))\n",
        "  side2:float= float(input(\"Enter your second side no of Triangle. \"))\n",
        "  side3:float = float(input(\"Enter your third side no of Triangle. \"))\n",
        "  total:float = float(side1 + side2 + side3)\n",
        "  print(f'The perimeter of the Triangle is {total}')\n",
        "\n",
        "if __name__ == \"__main__\":\n",
        "  triangle()"
      ],
      "metadata": {
        "colab": {
          "base_uri": "https://localhost:8080/"
        },
        "id": "WllPJtoSLuvs",
        "outputId": "368a76f5-2e2f-4b83-a241-c21021d45ea9"
      },
      "execution_count": 4,
      "outputs": [
        {
          "output_type": "stream",
          "name": "stdout",
          "text": [
            "This code is about perimeter of Triangle.\n",
            "Enter your first side no of Triangle. 92\n",
            "Enter your second side no of Triangle. 0.78\n",
            "Enter your third side no of Triangle. 5.78\n",
            "The perimeter of the Triangle is 98.56\n"
          ]
        }
      ]
    },
    {
      "cell_type": "markdown",
      "source": [
        "# **Print(\"06_Square_Number\")**"
      ],
      "metadata": {
        "id": "-QNgNDB_MF4T"
      }
    },
    {
      "cell_type": "code",
      "source": [
        "def square():\n",
        "  print(\"This code is about square of given number\")\n",
        "  num1:int = int(input(\"Enter any number and i will give u a square value. \"))\n",
        "  print(f'The square of {num1} is {num1 ** 2}')\n",
        "\n",
        "if __name__ == \"__main__\":\n",
        "  square()\n"
      ],
      "metadata": {
        "colab": {
          "base_uri": "https://localhost:8080/"
        },
        "id": "SFQ6D1VCMQaj",
        "outputId": "7a73bbba-b0b1-4318-f296-a78d1e7e9f91"
      },
      "execution_count": 5,
      "outputs": [
        {
          "output_type": "stream",
          "name": "stdout",
          "text": [
            "This code is about square of given number\n",
            "Enter any number and i will give u a square value. 23\n",
            "The square of 23 is 529\n"
          ]
        }
      ]
    }
  ]
}