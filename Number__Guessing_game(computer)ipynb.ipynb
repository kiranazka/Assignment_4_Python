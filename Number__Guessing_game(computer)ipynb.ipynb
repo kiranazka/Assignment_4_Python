{
  "nbformat": 4,
  "nbformat_minor": 0,
  "metadata": {
    "colab": {
      "provenance": [],
      "authorship_tag": "ABX9TyPnUnxBK0iDD2kLZG9kNpAS",
      "include_colab_link": true
    },
    "kernelspec": {
      "name": "python3",
      "display_name": "Python 3"
    },
    "language_info": {
      "name": "python"
    }
  },
  "cells": [
    {
      "cell_type": "markdown",
      "metadata": {
        "id": "view-in-github",
        "colab_type": "text"
      },
      "source": [
        "<a href=\"https://colab.research.google.com/github/kiranazka/Assignment_4_Python/blob/main/Number__Guessing_game(computer)ipynb.ipynb\" target=\"_parent\"><img src=\"https://colab.research.google.com/assets/colab-badge.svg\" alt=\"Open In Colab\"/></a>"
      ]
    },
    {
      "cell_type": "code",
      "execution_count": null,
      "metadata": {
        "id": "Dp2xT7qux3k8"
      },
      "outputs": [],
      "source": [
        "# Number_guessing_game"
      ]
    },
    {
      "cell_type": "code",
      "source": [
        "import random\n",
        "\n",
        "print(\"\\nWelcome to the Number Guessing Game!\")\n",
        "print(\"The computer will try to guess the number you're thinking of.\\n\")\n",
        "\n",
        "low = 1\n",
        "high = 20\n",
        "\n",
        "print(\"Think of a number between 1 and 20, and I'll try to guess it!\")\n",
        "\n",
        "while low <= high:\n",
        "    guess = random.randint(low, high)\n",
        "    print(f\"\\nIs your number {guess}?\")\n",
        "\n",
        "    feedback = input(\"Enter 'H' for too high, 'L' for too low, or 'C' for correct: \").lower()\n",
        "\n",
        "    if feedback == 'h':\n",
        "        high = guess - 1\n",
        "    elif feedback == 'l':\n",
        "        low = guess + 1\n",
        "    elif feedback == 'c':\n",
        "        print(f\"🎉 Yay! I guessed it right. Your number was {guess}! 🎉\")\n",
        "        break\n",
        "    else:\n",
        "        print(\"⚠️ Invalid input. Please enter only 'H', 'L', or 'C'. 🚫\")\n",
        "\n",
        "if low > high:\n",
        "    print(\"😅 Hmm... It seems there was a misunderstanding. Let's try again! 🔄\")\n"
      ],
      "metadata": {
        "colab": {
          "base_uri": "https://localhost:8080/"
        },
        "id": "MDwI-0v6yM0j",
        "outputId": "5b775daf-0438-4fce-93bf-eda7bc7f2702"
      },
      "execution_count": null,
      "outputs": [
        {
          "output_type": "stream",
          "name": "stdout",
          "text": [
            "\n",
            "Welcome to the Number Guessing Game!\n",
            "The computer will try to guess the number you're thinking of.\n",
            "\n",
            "Think of a number between 1 and 20, and I'll try to guess it!\n",
            "\n",
            "Is your number 1?\n",
            "Enter 'H' for too high, 'L' for too low, or 'C' for correct: 24\n",
            "⚠️ Invalid input. Please enter only 'H', 'L', or 'C'. 🚫\n",
            "\n",
            "Is your number 8?\n",
            "Enter 'H' for too high, 'L' for too low, or 'C' for correct: 13\n",
            "⚠️ Invalid input. Please enter only 'H', 'L', or 'C'. 🚫\n",
            "\n",
            "Is your number 9?\n",
            "Enter 'H' for too high, 'L' for too low, or 'C' for correct: 2\n",
            "⚠️ Invalid input. Please enter only 'H', 'L', or 'C'. 🚫\n",
            "\n",
            "Is your number 13?\n",
            "Enter 'H' for too high, 'L' for too low, or 'C' for correct: 1\n",
            "⚠️ Invalid input. Please enter only 'H', 'L', or 'C'. 🚫\n",
            "\n",
            "Is your number 4?\n",
            "Enter 'H' for too high, 'L' for too low, or 'C' for correct: 4\n",
            "⚠️ Invalid input. Please enter only 'H', 'L', or 'C'. 🚫\n",
            "\n",
            "Is your number 20?\n",
            "Enter 'H' for too high, 'L' for too low, or 'C' for correct: 20\n",
            "⚠️ Invalid input. Please enter only 'H', 'L', or 'C'. 🚫\n",
            "\n",
            "Is your number 2?\n",
            "Enter 'H' for too high, 'L' for too low, or 'C' for correct: 2\n",
            "⚠️ Invalid input. Please enter only 'H', 'L', or 'C'. 🚫\n",
            "\n",
            "Is your number 18?\n",
            "Enter 'H' for too high, 'L' for too low, or 'C' for correct: 45\n",
            "⚠️ Invalid input. Please enter only 'H', 'L', or 'C'. 🚫\n",
            "\n",
            "Is your number 9?\n",
            "Enter 'H' for too high, 'L' for too low, or 'C' for correct: 9\n",
            "⚠️ Invalid input. Please enter only 'H', 'L', or 'C'. 🚫\n",
            "\n",
            "Is your number 6?\n"
          ]
        }
      ]
    }
  ]
}