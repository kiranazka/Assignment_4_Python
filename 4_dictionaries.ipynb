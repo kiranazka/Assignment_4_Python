{
  "cells": [
    {
      "cell_type": "markdown",
      "metadata": {
        "id": "view-in-github",
        "colab_type": "text"
      },
      "source": [
        "<a href=\"https://colab.research.google.com/github/kiranazka/Assignment_4_Python/blob/main/4_dictionaries.ipynb\" target=\"_parent\"><img src=\"https://colab.research.google.com/assets/colab-badge.svg\" alt=\"Open In Colab\"/></a>"
      ]
    },
    {
      "cell_type": "code",
      "execution_count": null,
      "metadata": {
        "id": "NYmFXQEFa99u"
      },
      "outputs": [],
      "source": []
    },
    {
      "cell_type": "markdown",
      "metadata": {
        "id": "6XwwCWPwh2oF"
      },
      "source": [
        " **Print_00_Count_Numbers **"
      ]
    },
    {
      "cell_type": "code",
      "execution_count": null,
      "metadata": {
        "colab": {
          "background_save": true,
          "base_uri": "https://localhost:8080/"
        },
        "id": "MijD8DjoiPcw",
        "outputId": "fb4777d9-5bfb-4a8a-f754-6e7703fda1dc"
      },
      "outputs": [
        {
          "name": "stdout",
          "output_type": "stream",
          "text": [
            "00_count_nums\n",
            "{67: 1}\n",
            "{67: 1, 56: 1}\n",
            "{67: 1, 56: 1, 919: 1}\n",
            "{67: 1, 56: 1, 919: 1, 65: 1}\n",
            "{67: 1, 56: 1, 919: 1, 65: 1, 923: 1}\n",
            "{67: 1, 56: 2, 919: 1, 65: 1, 923: 1}\n",
            "{67: 1, 56: 2, 919: 1, 65: 1, 923: 1, 74: 1}\n",
            "{67: 1, 56: 2, 919: 1, 65: 1, 923: 1, 74: 1, 45: 1}\n",
            "{67: 1, 56: 2, 919: 1, 65: 1, 923: 1, 74: 1, 45: 2}\n"
          ]
        }
      ],
      "source": [
        "print(\"00_Count_Numbers\")\n",
        "\n",
        "def count_numbers():\n",
        "  count_dict = {}\n",
        "\n",
        "  while True:\n",
        "    num = input(\"Enter a number (or 'Exit' to quit): \")\n",
        "    if num.lower() == 'Exit':\n",
        "      break\n",
        "    if num.isdigit():\n",
        "      num = int(num)\n",
        "      count_dict[num] = count_dict.get(num, 0) + 1\n",
        "      print(count_dict)\n",
        "    else:\n",
        "      print(\"Invalid input. Please enter a number or 'Exit'.\")\n",
        "      return count_dict\n",
        "\n",
        "def display_counts(count_dict):\n",
        "  print(\"\\n Number Counts:\")\n",
        "  for key,value in count_dict.items():\n",
        "      print(f'{key} appears {value} times')\n",
        "\n",
        "\n",
        "if __name__ == \"__main__\":\n",
        "  count = count_numbers()\n",
        "  display_counts(count)\n"
      ]
    },
    {
      "cell_type": "markdown",
      "metadata": {
        "id": "t_x9swvWllqg"
      },
      "source": [
        "# **Print_PhoneBook**"
      ]
    },
    {
      "cell_type": "code",
      "execution_count": null,
      "metadata": {
        "id": "yPKQSlQtldGQ",
        "colab": {
          "base_uri": "https://localhost:8080/"
        },
        "outputId": "774392ba-455c-4a19-85d8-c5ad23a6638b"
      },
      "outputs": [
        {
          "metadata": {
            "tags": null
          },
          "name": "stdout",
          "output_type": "stream",
          "text": [
            "01_phonebook\n",
            "\n",
            "Phonebook Menu\n",
            "1. Add Contact\n",
            "2. Search Contact\n",
            "3. Delete Contact\n",
            "4. Display Contacts\n",
            "5. Exit\n",
            "azka kiran added to the phonebook.\n",
            "\n",
            "Phonebook Menu\n",
            "1. Add Contact\n",
            "2. Search Contact\n",
            "3. Delete Contact\n",
            "4. Display Contacts\n",
            "5. Exit\n",
            "\n",
            "Phonebook Contacts List:\n",
            "azka kiran: 03224507114\n",
            "\n",
            "Phonebook Menu\n",
            "1. Add Contact\n",
            "2. Search Contact\n",
            "3. Delete Contact\n",
            "4. Display Contacts\n",
            "5. Exit\n",
            "kamran not found in the phonebook.\n",
            "\n",
            "Phonebook Menu\n",
            "1. Add Contact\n",
            "2. Search Contact\n",
            "3. Delete Contact\n",
            "4. Display Contacts\n",
            "5. Exit\n",
            "ammi added to the phonebook.\n",
            "\n",
            "Phonebook Menu\n",
            "1. Add Contact\n",
            "2. Search Contact\n",
            "3. Delete Contact\n",
            "4. Display Contacts\n",
            "5. Exit\n"
          ]
        }
      ],
      "source": [
        "print(\"01_phonebook\")\n",
        "\n",
        "def add_contact(phonebook):\n",
        "    name = input(\"Enter contact name: \")\n",
        "    number = input(\"Enter contact number: \")\n",
        "\n",
        "    if name in phonebook:\n",
        "        print(f\"{name} already exists in the phonebook.\")\n",
        "    else:\n",
        "        phonebook[name] = number\n",
        "        print(f\"{name} added to the phonebook.\")\n",
        "\n",
        "def search_contact(phonebook):\n",
        "    name = input(\"Enter contact name to search: \")\n",
        "\n",
        "    if name in phonebook:\n",
        "        print(f\"{name}: {phonebook[name]}\")\n",
        "    else:\n",
        "        print(f\"{name} not found in the phonebook.\")\n",
        "\n",
        "def delete_contact(phonebook):\n",
        "    name = input(\"Enter contact name to delete: \")\n",
        "    if name in phonebook:\n",
        "        del phonebook[name]\n",
        "        print(f\"{name} deleted from the phonebook.\")\n",
        "    else:\n",
        "        print(f\"{name} not found in phonebook.\")\n",
        "\n",
        "def display_contact(phonebook):\n",
        "    if phonebook:\n",
        "        print(\"\\nPhonebook Contacts List:\")\n",
        "        for name, number in phonebook.items():\n",
        "            print(f\"{name}: {number}\")\n",
        "    else:\n",
        "        print(\"Phonebook is empty.\")\n",
        "\n",
        "if __name__ == \"__main__\":\n",
        "    phonebook = {}\n",
        "\n",
        "    while True:\n",
        "        print(\"\\nPhonebook Menu\")\n",
        "        print(\"1. Add Contact\")\n",
        "        print(\"2. Search Contact\")\n",
        "        print(\"3. Delete Contact\")\n",
        "        print(\"4. Display Contacts\")\n",
        "        print(\"5. Exit\")\n",
        "\n",
        "        choice = input(\"Enter your choice (1-5): \")\n",
        "\n",
        "        if choice == '1':\n",
        "            add_contact(phonebook)\n",
        "        elif choice == '2':\n",
        "            search_contact(phonebook)\n",
        "        elif choice == '3':\n",
        "            delete_contact(phonebook)\n",
        "        elif choice == '4':\n",
        "            display_contact(phonebook)\n",
        "        elif choice == '5':\n",
        "            print(\"Exiting Phonebook. Goodbye!\")\n",
        "            break\n",
        "        else:\n",
        "            print(\"Invalid choice. Please enter a number between 1 to 5.\")\n"
      ]
    },
    {
      "cell_type": "code",
      "execution_count": null,
      "metadata": {
        "id": "AFWNc3lipvmT"
      },
      "outputs": [],
      "source": [
        "import hashlib\n",
        "\n",
        "print(\"03_powerful_passwords\")\n",
        "\n",
        "# Function to hash the password using SHA-256\n",
        "def hash_password(password):\n",
        "    return hashlib.sha256(password.encode()).hexdigest()\n",
        "\n",
        "# Stored users with hashed passwords\n",
        "stored_logins = {\n",
        "    \"user@example.com\": hash_password(\"password123\"),\n",
        "    \"admin@example.com\": hash_password(\"adminpass\")\n",
        "}\n",
        "\n",
        "# Function to check login\n",
        "def login(email, password):\n",
        "    if email in stored_logins:\n",
        "        return stored_logins[email] == hash_password(password)\n",
        "    return False\n",
        "\n",
        "# Main logic\n",
        "if __name__ == \"__main__\":\n",
        "    email = input(\"Enter your email: \")\n",
        "    password = input(\"Enter your password: \")\n",
        "\n",
        "    if login(email, password):\n",
        "        print(\"Login successful!\")\n",
        "    else:\n",
        "        print(\"Invalid email or password.\")\n",
        "\n",
        "\n",
        "\n",
        "\n"
      ]
    },
    {
      "cell_type": "code",
      "execution_count": null,
      "metadata": {
        "id": "nXBt0d-5sNdZ"
      },
      "outputs": [],
      "source": []
    },
    {
      "cell_type": "code",
      "execution_count": null,
      "metadata": {
        "id": "lROH5b8VsWSe"
      },
      "outputs": [],
      "source": [
        "print(\"02_pop_up_shop\")\n",
        "\n",
        "def calculate_total_cost():\n",
        "    fruits_price = {\n",
        "        \"apple\": 5.0,\n",
        "        \"mango\": 15.0,\n",
        "        \"kiwi\": 8.0,\n",
        "        \"pear\": 12.0,\n",
        "        \"banana\": 6.0,\n",
        "        \"orange\": 10.0\n",
        "    }\n",
        "\n",
        "    total_cost = 0\n",
        "\n",
        "    for fruit, price in fruits_price.items():\n",
        "        while True:\n",
        "            try:\n",
        "                quantity = int(input(f'How many {fruit} do you want?: '))\n",
        "                if quantity < 0:\n",
        "                    print(\"Invalid input. Please enter a non-negative number.\")\n",
        "                    continue\n",
        "                total_cost += price * quantity\n",
        "                break\n",
        "            except ValueError:\n",
        "                print(\"Invalid input. Please enter a valid number.\")\n",
        "\n",
        "    print(f\"\\nYour total cost is: ${total_cost:.2f}\")\n",
        "\n",
        "if __name__ == \"__main__\":\n",
        "    calculate_total_cost()\n",
        "\n"
      ]
    }
  ],
  "metadata": {
    "colab": {
      "provenance": [],
      "authorship_tag": "ABX9TyP/dYJ4GqCYGhRRNAzYVV/1",
      "include_colab_link": true
    },
    "kernelspec": {
      "display_name": "Python 3",
      "name": "python3"
    },
    "language_info": {
      "name": "python"
    }
  },
  "nbformat": 4,
  "nbformat_minor": 0
}