{
  "nbformat": 4,
  "nbformat_minor": 0,
  "metadata": {
    "colab": {
      "provenance": [],
      "authorship_tag": "ABX9TyO7ajDGDveG4mDugy9ogp72",
      "include_colab_link": true
    },
    "kernelspec": {
      "name": "python3",
      "display_name": "Python 3"
    },
    "language_info": {
      "name": "python"
    }
  },
  "cells": [
    {
      "cell_type": "markdown",
      "metadata": {
        "id": "view-in-github",
        "colab_type": "text"
      },
      "source": [
        "<a href=\"https://colab.research.google.com/github/kiranazka/Assignment_4_Python/blob/main/Number_guessing_game(user).ipynb\" target=\"_parent\"><img src=\"https://colab.research.google.com/assets/colab-badge.svg\" alt=\"Open In Colab\"/></a>"
      ]
    },
    {
      "cell_type": "code",
      "execution_count": null,
      "metadata": {
        "id": "51xKfWNE14U2"
      },
      "outputs": [],
      "source": []
    },
    {
      "cell_type": "markdown",
      "source": [
        "Number_Guessing _Game_Python"
      ],
      "metadata": {
        "id": "FcNYrca-2AcF"
      }
    },
    {
      "cell_type": "code",
      "source": [
        "import random\n",
        "\n",
        "print(\"\\n Welcome to the Number Guessing Game! ✨\")\n",
        "print(\"\\n👨 User Guess The Number 👨‍💻\\n\")\n",
        "\n",
        "# Generate a random number between 1 and 20\n",
        "Secret_Number = random.randint(1, 20)\n",
        "\n",
        "print(\"I have a secret number between 1 to 20. Can you guess it? 🤔\")\n",
        "\n",
        "while True:\n",
        "    try:\n",
        "        guess = int(input(\"Guess the number: \"))\n",
        "\n",
        "        if guess > Secret_Number:\n",
        "            print(\"Too high! Try again. 🔽\")\n",
        "        elif guess < Secret_Number:\n",
        "            print(\"Too low! Try again. 🔼\")\n",
        "        else:\n",
        "            print(\"🎉🎉🎉 Congratulations! You guessed the right number! 🎉🎉🎉\")\n",
        "            break\n",
        "    except ValueError:\n",
        "        print(\"❌ Invalid input. Please enter a valid number. 🔢\")\n",
        "\n"
      ],
      "metadata": {
        "colab": {
          "base_uri": "https://localhost:8080/"
        },
        "id": "agnmzXyI2IBE",
        "outputId": "818486bb-79fa-41f7-89b9-cad58926afe8"
      },
      "execution_count": 1,
      "outputs": [
        {
          "output_type": "stream",
          "name": "stdout",
          "text": [
            "\n",
            " Welcome to the Number Guessing Game! ✨\n",
            "\n",
            "👨 User Guess The Number 👨‍💻\n",
            "\n",
            "I have a secret number between 1 to 20. Can you guess it? 🤔\n",
            "Guess the number: 3\n",
            "Too low! Try again. 🔼\n",
            "Guess the number: 20\n",
            "Too high! Try again. 🔽\n",
            "Guess the number: 5\n",
            "Too low! Try again. 🔼\n",
            "Guess the number: 10\n",
            "Too low! Try again. 🔼\n",
            "Guess the number: 25\n",
            "Too high! Try again. 🔽\n",
            "Guess the number: 2\n",
            "Too low! Try again. 🔼\n",
            "Guess the number: 1\n",
            "Too low! Try again. 🔼\n",
            "Guess the number: 16\n",
            "🎉🎉🎉 Congratulations! You guessed the right number! 🎉🎉🎉\n"
          ]
        }
      ]
    }
  ]
}