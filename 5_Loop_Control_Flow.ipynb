{
  "cells": [
    {
      "cell_type": "markdown",
      "metadata": {
        "id": "view-in-github",
        "colab_type": "text"
      },
      "source": [
        "<a href=\"https://colab.research.google.com/github/kiranazka/Assignment_4_Python/blob/main/5_Loop_Control_Flow.ipynb\" target=\"_parent\"><img src=\"https://colab.research.google.com/assets/colab-badge.svg\" alt=\"Open In Colab\"/></a>"
      ]
    },
    {
      "cell_type": "code",
      "execution_count": null,
      "metadata": {
        "id": "4lXyycjUs8tO"
      },
      "outputs": [],
      "source": []
    },
    {
      "cell_type": "markdown",
      "metadata": {
        "id": "HIfme_t6wF2B"
      },
      "source": [
        "Print_Guess_My_Number"
      ]
    },
    {
      "cell_type": "code",
      "execution_count": null,
      "metadata": {
        "colab": {
          "base_uri": "https://localhost:8080/"
        },
        "id": "toTxPJ03wQ10",
        "outputId": "87e8304f-4883-4ff5-8f4a-4da3a5291731"
      },
      "outputs": [
        {
          "name": "stdout",
          "output_type": "stream",
          "text": [
            "00_guess_my_number.\n",
            "I m thinking of a number between 1 and 5.......\n",
            "Enter a guess:3\n",
            "Your guess is too Low.\n",
            "Enter a guess:5\n",
            "You got it!\n"
          ]
        }
      ],
      "source": [
        "import random\n",
        "\n",
        "print(\"00_guess_my_number.\")\n",
        "\n",
        "def main():\n",
        "  secret_number = random.randint(1,5)\n",
        "  print(\"I m thinking of a number between 1 and 5.......\")\n",
        "\n",
        "  guess = int(input(\"Enter a guess:\"))\n",
        "\n",
        "  while guess != secret_number:\n",
        "    if guess < secret_number:\n",
        "      print(\"Your guess is too Low.\")\n",
        "    else:\n",
        "      print(\"Your guess is too High.\")\n",
        "    guess = int(input(\"Enter a guess:\"))\n",
        "  print(\"You got it!\")\n",
        "\n",
        "main()\n"
      ]
    },
    {
      "cell_type": "markdown",
      "metadata": {
        "id": "ihW7LF0FyY4E"
      },
      "source": [
        "## **Print(01_Fibonacci)**"
      ]
    },
    {
      "cell_type": "code",
      "execution_count": null,
      "metadata": {
        "colab": {
          "base_uri": "https://localhost:8080/"
        },
        "id": "nVskVhhNzSud",
        "outputId": "292f098b-dcf8-49d3-92bf-6ad50ee84981"
      },
      "outputs": [
        {
          "name": "stdout",
          "output_type": "stream",
          "text": [
            "Fibonacci\n",
            "1 2 3 5 8 13 21 34 55 89 144 233 377 610 987 "
          ]
        }
      ],
      "source": [
        "print(\"Fibonacci\")\n",
        "\n",
        "max_value = 1000\n",
        "\n",
        "def main():\n",
        "    x, y = 1, 2\n",
        "    print(x, y, end=' ')\n",
        "\n",
        "    while True:\n",
        "        z = x + y\n",
        "        if z >= max_value:\n",
        "            break\n",
        "        print(z, end=' ')\n",
        "        x, y = y, z\n",
        "\n",
        "if __name__ == \"__main__\":\n",
        "    main()\n",
        "\n"
      ]
    },
    {
      "cell_type": "markdown",
      "metadata": {
        "id": "kXEMQpZA0xEd"
      },
      "source": [
        "# **Print_Even_Number**"
      ]
    },
    {
      "cell_type": "code",
      "execution_count": null,
      "metadata": {
        "colab": {
          "base_uri": "https://localhost:8080/"
        },
        "id": "tNyoZuB103d8",
        "outputId": "1d27f36e-e14d-429a-bd8d-20e75278196b"
      },
      "outputs": [
        {
          "name": "stdout",
          "output_type": "stream",
          "text": [
            "02_print_events\n",
            "0\n",
            "2\n",
            "4\n",
            "6\n",
            "8\n",
            "10\n",
            "12\n",
            "14\n",
            "16\n",
            "18\n",
            "20\n",
            "22\n",
            "24\n",
            "26\n",
            "28\n",
            "30\n",
            "32\n",
            "34\n",
            "36\n",
            "38\n",
            "40\n",
            "42\n",
            "44\n",
            "46\n",
            "48\n",
            "50\n",
            "52\n",
            "54\n",
            "56\n",
            "58\n",
            "60\n",
            "62\n",
            "64\n",
            "66\n",
            "68\n",
            "70\n",
            "72\n",
            "74\n",
            "76\n",
            "78\n"
          ]
        }
      ],
      "source": [
        "print(\"02_print_events\")\n",
        "\n",
        "def main():\n",
        "  for i in range(40):\n",
        "    print(i*2)\n",
        "\n",
        "if __name__ == \"__main__\":\n",
        "  main()"
      ]
    },
    {
      "cell_type": "markdown",
      "metadata": {
        "id": "4zKVZ6HZ1KfX"
      },
      "source": [
        "# **Print_Wholesome_Machine**"
      ]
    },
    {
      "cell_type": "code",
      "execution_count": null,
      "metadata": {
        "colab": {
          "background_save": true,
          "base_uri": "https://localhost:8080/"
        },
        "id": "VJ8cHR-v1UB5",
        "outputId": "4d74e2ac-c9d9-4681-f34c-735d397ce57b"
      },
      "outputs": [
        {
          "name": "stdout",
          "output_type": "stream",
          "text": [
            "03_wholesome_machine\n",
            "Welcome to the Wholesome Machine\n",
            "Hmmm That was not the information. Please Try Again!\n",
            "Hmmm That was not the information. Please Try Again!\n",
            "Hmmm That was not the information. Please Try Again!\n"
          ]
        }
      ],
      "source": [
        "print(\"03_wholesome_machine\")\n",
        "\n",
        "correct_information = \"I can achieve anything I set my mind to.\"\n",
        "\n",
        "\n",
        "def main():\n",
        "  print(\"Welcome to the Wholesome Machine\")\n",
        "  while True:\n",
        "    user_input = input(\"Please type the following information:\" + correct_information)\n",
        "    if user_input == correct_information:\n",
        "      print(\"That\\'s right! \")\n",
        "      break\n",
        "    else:\n",
        "      print(\"Hmmm That was not the information. Please Try Again!\")\n",
        "\n",
        "if __name__ == \"__main__\":\n",
        "  main()"
      ]
    },
    {
      "cell_type": "markdown",
      "metadata": {
        "id": "gQsGOzGk49Q5"
      },
      "source": []
    },
    {
      "cell_type": "markdown",
      "metadata": {
        "id": "97FQi3785DdW"
      },
      "source": [
        "# **Print_Liftoff**"
      ]
    },
    {
      "cell_type": "code",
      "execution_count": 2,
      "metadata": {
        "id": "55mIDOiC59mv",
        "colab": {
          "base_uri": "https://localhost:8080/"
        },
        "outputId": "b708492c-9f76-44e2-b006-c16a917ca0d8"
      },
      "outputs": [
        {
          "output_type": "stream",
          "name": "stdout",
          "text": [
            "04_liftoff\n",
            "10 9 8 7 6 5 4 3 2 1 \n",
            "liftoff 🚀\n"
          ]
        }
      ],
      "source": [
        "print(\"04_liftoff\")\n",
        "\n",
        "def main():\n",
        "    for i in range(10, 0, -1):\n",
        "        print(i, end=\" \")\n",
        "    print(\"\\nliftoff 🚀\")  # added \\n to move liftoff to a new line\n",
        "\n",
        "if __name__ == \"__main__\":\n",
        "    main()\n"
      ]
    },
    {
      "cell_type": "code",
      "execution_count": 1,
      "metadata": {
        "id": "EfaEqAcY6J3O",
        "colab": {
          "base_uri": "https://localhost:8080/"
        },
        "outputId": "1e4bd0fd-c825-40e1-d787-0c207dee394c"
      },
      "outputs": [
        {
          "output_type": "stream",
          "name": "stdout",
          "text": [
            "05_double_it\n",
            "Enter a number: 45\n",
            "90\n",
            "180\n"
          ]
        }
      ],
      "source": [
        "print(\"05_double_it\")\n",
        "\n",
        "def main():\n",
        "  user_value = int(input(\"Enter a number: \"))\n",
        "  while user_value < 100:\n",
        "    user_value = user_value * 2\n",
        "    print(user_value)\n",
        "\n",
        "if __name__ == \"__main__\":\n",
        "  main()\n"
      ]
    }
  ],
  "metadata": {
    "colab": {
      "provenance": [],
      "authorship_tag": "ABX9TyNn3Gpr2t2bJWRBf/rZ9v61",
      "include_colab_link": true
    },
    "kernelspec": {
      "display_name": "Python 3",
      "name": "python3"
    },
    "language_info": {
      "name": "python"
    }
  },
  "nbformat": 4,
  "nbformat_minor": 0
}